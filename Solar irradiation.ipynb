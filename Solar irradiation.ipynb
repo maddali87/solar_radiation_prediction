{
 "cells": [
  {
   "cell_type": "code",
   "execution_count": 96,
   "metadata": {},
   "outputs": [],
   "source": [
    "import numpy as np \n",
    "import pandas as pd #\n",
    "import matplotlib.pyplot as plt\n",
    "from sklearn.model_selection import train_test_split\n",
    "from sklearn.linear_model import LinearRegression\n",
    "from sklearn.metrics import mean_squared_error\n",
    "import seaborn as sns"
   ]
  },
  {
   "cell_type": "code",
   "execution_count": 97,
   "metadata": {},
   "outputs": [],
   "source": [
    "data=pd.read_csv(\"C:/Users/lenovo/Desktop/DS/SolarPrediction.csv\")"
   ]
  },
  {
   "cell_type": "code",
   "execution_count": 88,
   "metadata": {},
   "outputs": [],
   "source": [
    "data_test=pd.read_excel(\"C:/Users/lenovo/Desktop/DS/Solarradiation.xlsx\")"
   ]
  },
  {
   "cell_type": "code",
   "execution_count": 57,
   "metadata": {},
   "outputs": [
    {
     "data": {
      "text/plain": [
       "<bound method NDFrame.head of          UNIXTime                   Data      Time  Radiation  Temperature  \\\n",
       "0      1475229326  9/29/2016 12:00:00 AM  23:55:26       1.21           48   \n",
       "1      1475229023  9/29/2016 12:00:00 AM  23:50:23       1.21           48   \n",
       "2      1475228726  9/29/2016 12:00:00 AM  23:45:26       1.23           48   \n",
       "3      1475228421  9/29/2016 12:00:00 AM  23:40:21       1.21           48   \n",
       "4      1475228124  9/29/2016 12:00:00 AM  23:35:24       1.17           48   \n",
       "...           ...                    ...       ...        ...          ...   \n",
       "32681  1480587604  12/1/2016 12:00:00 AM  00:20:04       1.22           44   \n",
       "32682  1480587301  12/1/2016 12:00:00 AM  00:15:01       1.17           44   \n",
       "32683  1480587001  12/1/2016 12:00:00 AM  00:10:01       1.20           44   \n",
       "32684  1480586702  12/1/2016 12:00:00 AM  00:05:02       1.23           44   \n",
       "32685  1480586402  12/1/2016 12:00:00 AM  00:00:02       1.20           44   \n",
       "\n",
       "       Pressure  Humidity  WindDirection(Degrees)  Speed TimeSunRise  \\\n",
       "0         30.46        59                  177.39   5.62    06:13:00   \n",
       "1         30.46        58                  176.78   3.37    06:13:00   \n",
       "2         30.46        57                  158.75   3.37    06:13:00   \n",
       "3         30.46        60                  137.71   3.37    06:13:00   \n",
       "4         30.46        62                  104.95   5.62    06:13:00   \n",
       "...         ...       ...                     ...    ...         ...   \n",
       "32681     30.43       102                  145.42   6.75    06:41:00   \n",
       "32682     30.42       102                  117.78   6.75    06:41:00   \n",
       "32683     30.42       102                  145.19   9.00    06:41:00   \n",
       "32684     30.42       101                  164.19   7.87    06:41:00   \n",
       "32685     30.43       101                   83.59   3.37    06:41:00   \n",
       "\n",
       "      TimeSunSet  \n",
       "0       18:13:00  \n",
       "1       18:13:00  \n",
       "2       18:13:00  \n",
       "3       18:13:00  \n",
       "4       18:13:00  \n",
       "...          ...  \n",
       "32681   17:42:00  \n",
       "32682   17:42:00  \n",
       "32683   17:42:00  \n",
       "32684   17:42:00  \n",
       "32685   17:42:00  \n",
       "\n",
       "[32686 rows x 11 columns]>"
      ]
     },
     "execution_count": 57,
     "metadata": {},
     "output_type": "execute_result"
    }
   ],
   "source": [
    "data.head"
   ]
  },
  {
   "cell_type": "code",
   "execution_count": 83,
   "metadata": {},
   "outputs": [
    {
     "data": {
      "text/html": [
       "<div>\n",
       "<style scoped>\n",
       "    .dataframe tbody tr th:only-of-type {\n",
       "        vertical-align: middle;\n",
       "    }\n",
       "\n",
       "    .dataframe tbody tr th {\n",
       "        vertical-align: top;\n",
       "    }\n",
       "\n",
       "    .dataframe thead th {\n",
       "        text-align: right;\n",
       "    }\n",
       "</style>\n",
       "<table border=\"1\" class=\"dataframe\">\n",
       "  <thead>\n",
       "    <tr style=\"text-align: right;\">\n",
       "      <th></th>\n",
       "      <th>Temperature</th>\n",
       "      <th>Pressure</th>\n",
       "      <th>Humidity</th>\n",
       "      <th>WindDirection(Degrees)</th>\n",
       "      <th>Speed</th>\n",
       "      <th>Radiation</th>\n",
       "    </tr>\n",
       "  </thead>\n",
       "  <tbody>\n",
       "    <tr>\n",
       "      <th>0</th>\n",
       "      <td>69.8</td>\n",
       "      <td>29.91</td>\n",
       "      <td>49</td>\n",
       "      <td>275</td>\n",
       "      <td>10.56</td>\n",
       "      <td>NaN</td>\n",
       "    </tr>\n",
       "  </tbody>\n",
       "</table>\n",
       "</div>"
      ],
      "text/plain": [
       "   Temperature  Pressure  Humidity  WindDirection(Degrees)  Speed  Radiation\n",
       "0         69.8     29.91        49                     275  10.56        NaN"
      ]
     },
     "execution_count": 83,
     "metadata": {},
     "output_type": "execute_result"
    }
   ],
   "source": [
    "data_test"
   ]
  },
  {
   "cell_type": "code",
   "execution_count": 58,
   "metadata": {},
   "outputs": [
    {
     "data": {
      "text/html": [
       "<div>\n",
       "<style scoped>\n",
       "    .dataframe tbody tr th:only-of-type {\n",
       "        vertical-align: middle;\n",
       "    }\n",
       "\n",
       "    .dataframe tbody tr th {\n",
       "        vertical-align: top;\n",
       "    }\n",
       "\n",
       "    .dataframe thead th {\n",
       "        text-align: right;\n",
       "    }\n",
       "</style>\n",
       "<table border=\"1\" class=\"dataframe\">\n",
       "  <thead>\n",
       "    <tr style=\"text-align: right;\">\n",
       "      <th></th>\n",
       "      <th>UNIXTime</th>\n",
       "      <th>Radiation</th>\n",
       "      <th>Temperature</th>\n",
       "      <th>Pressure</th>\n",
       "      <th>Humidity</th>\n",
       "      <th>WindDirection(Degrees)</th>\n",
       "      <th>Speed</th>\n",
       "    </tr>\n",
       "  </thead>\n",
       "  <tbody>\n",
       "    <tr>\n",
       "      <th>count</th>\n",
       "      <td>3.268600e+04</td>\n",
       "      <td>32686.000000</td>\n",
       "      <td>32686.000000</td>\n",
       "      <td>32686.000000</td>\n",
       "      <td>32686.000000</td>\n",
       "      <td>32686.000000</td>\n",
       "      <td>32686.000000</td>\n",
       "    </tr>\n",
       "    <tr>\n",
       "      <th>mean</th>\n",
       "      <td>1.478047e+09</td>\n",
       "      <td>207.124697</td>\n",
       "      <td>51.103255</td>\n",
       "      <td>30.422879</td>\n",
       "      <td>75.016307</td>\n",
       "      <td>143.489821</td>\n",
       "      <td>6.243869</td>\n",
       "    </tr>\n",
       "    <tr>\n",
       "      <th>std</th>\n",
       "      <td>3.005037e+06</td>\n",
       "      <td>315.916387</td>\n",
       "      <td>6.201157</td>\n",
       "      <td>0.054673</td>\n",
       "      <td>25.990219</td>\n",
       "      <td>83.167500</td>\n",
       "      <td>3.490474</td>\n",
       "    </tr>\n",
       "    <tr>\n",
       "      <th>min</th>\n",
       "      <td>1.472724e+09</td>\n",
       "      <td>1.110000</td>\n",
       "      <td>34.000000</td>\n",
       "      <td>30.190000</td>\n",
       "      <td>8.000000</td>\n",
       "      <td>0.090000</td>\n",
       "      <td>0.000000</td>\n",
       "    </tr>\n",
       "    <tr>\n",
       "      <th>25%</th>\n",
       "      <td>1.475546e+09</td>\n",
       "      <td>1.230000</td>\n",
       "      <td>46.000000</td>\n",
       "      <td>30.400000</td>\n",
       "      <td>56.000000</td>\n",
       "      <td>82.227500</td>\n",
       "      <td>3.370000</td>\n",
       "    </tr>\n",
       "    <tr>\n",
       "      <th>50%</th>\n",
       "      <td>1.478026e+09</td>\n",
       "      <td>2.660000</td>\n",
       "      <td>50.000000</td>\n",
       "      <td>30.430000</td>\n",
       "      <td>85.000000</td>\n",
       "      <td>147.700000</td>\n",
       "      <td>5.620000</td>\n",
       "    </tr>\n",
       "    <tr>\n",
       "      <th>75%</th>\n",
       "      <td>1.480480e+09</td>\n",
       "      <td>354.235000</td>\n",
       "      <td>55.000000</td>\n",
       "      <td>30.460000</td>\n",
       "      <td>97.000000</td>\n",
       "      <td>179.310000</td>\n",
       "      <td>7.870000</td>\n",
       "    </tr>\n",
       "    <tr>\n",
       "      <th>max</th>\n",
       "      <td>1.483265e+09</td>\n",
       "      <td>1601.260000</td>\n",
       "      <td>71.000000</td>\n",
       "      <td>30.560000</td>\n",
       "      <td>103.000000</td>\n",
       "      <td>359.950000</td>\n",
       "      <td>40.500000</td>\n",
       "    </tr>\n",
       "  </tbody>\n",
       "</table>\n",
       "</div>"
      ],
      "text/plain": [
       "           UNIXTime     Radiation   Temperature      Pressure      Humidity  \\\n",
       "count  3.268600e+04  32686.000000  32686.000000  32686.000000  32686.000000   \n",
       "mean   1.478047e+09    207.124697     51.103255     30.422879     75.016307   \n",
       "std    3.005037e+06    315.916387      6.201157      0.054673     25.990219   \n",
       "min    1.472724e+09      1.110000     34.000000     30.190000      8.000000   \n",
       "25%    1.475546e+09      1.230000     46.000000     30.400000     56.000000   \n",
       "50%    1.478026e+09      2.660000     50.000000     30.430000     85.000000   \n",
       "75%    1.480480e+09    354.235000     55.000000     30.460000     97.000000   \n",
       "max    1.483265e+09   1601.260000     71.000000     30.560000    103.000000   \n",
       "\n",
       "       WindDirection(Degrees)         Speed  \n",
       "count            32686.000000  32686.000000  \n",
       "mean               143.489821      6.243869  \n",
       "std                 83.167500      3.490474  \n",
       "min                  0.090000      0.000000  \n",
       "25%                 82.227500      3.370000  \n",
       "50%                147.700000      5.620000  \n",
       "75%                179.310000      7.870000  \n",
       "max                359.950000     40.500000  "
      ]
     },
     "execution_count": 58,
     "metadata": {},
     "output_type": "execute_result"
    }
   ],
   "source": [
    "data.describe()"
   ]
  },
  {
   "cell_type": "code",
   "execution_count": 59,
   "metadata": {},
   "outputs": [
    {
     "data": {
      "text/plain": [
       "<bound method NDFrame.head of    Temperature  Pressure  Humidity  WindDirection(Degrees)  Speed  Radiation\n",
       "0         69.8     29.91        50                     275      8        NaN>"
      ]
     },
     "execution_count": 59,
     "metadata": {},
     "output_type": "execute_result"
    }
   ],
   "source": [
    "data_test.head"
   ]
  },
  {
   "cell_type": "code",
   "execution_count": 60,
   "metadata": {},
   "outputs": [
    {
     "name": "stdout",
     "output_type": "stream",
     "text": [
      "       Radiation  Temperature  Pressure  Humidity  WindDirection(Degrees)  \\\n",
      "0           1.21           48     30.46        59                  177.39   \n",
      "1           1.21           48     30.46        58                  176.78   \n",
      "2           1.23           48     30.46        57                  158.75   \n",
      "3           1.21           48     30.46        60                  137.71   \n",
      "4           1.17           48     30.46        62                  104.95   \n",
      "...          ...          ...       ...       ...                     ...   \n",
      "32681       1.22           44     30.43       102                  145.42   \n",
      "32682       1.17           44     30.42       102                  117.78   \n",
      "32683       1.20           44     30.42       102                  145.19   \n",
      "32684       1.23           44     30.42       101                  164.19   \n",
      "32685       1.20           44     30.43       101                   83.59   \n",
      "\n",
      "       Speed  \n",
      "0       5.62  \n",
      "1       3.37  \n",
      "2       3.37  \n",
      "3       3.37  \n",
      "4       5.62  \n",
      "...      ...  \n",
      "32681   6.75  \n",
      "32682   6.75  \n",
      "32683   9.00  \n",
      "32684   7.87  \n",
      "32685   3.37  \n",
      "\n",
      "[32686 rows x 6 columns]\n"
     ]
    }
   ],
   "source": [
    "data_train=data.drop(['UNIXTime','Data','Time','TimeSunRise','TimeSunSet'],axis=1)\n",
    "print(final_data)\n"
   ]
  },
  {
   "cell_type": "code",
   "execution_count": 61,
   "metadata": {},
   "outputs": [
    {
     "data": {
      "image/png": "[encoded data removed]",
      "text/plain": [
       "<Figure size 432x288 with 2 Axes>"
      ]
     },
     "metadata": {
      "needs_background": "light"
     },
     "output_type": "display_data"
    }
   ],
   "source": [
    "corr = data_train.corr()\n",
    "sns.heatmap(corr, annot=True, cmap='Blues')\n",
    "plt.show()"
   ]
  },
  {
   "cell_type": "code",
   "execution_count": 62,
   "metadata": {},
   "outputs": [
    {
     "name": "stdout",
     "output_type": "stream",
     "text": [
      " the missing values are:\n",
      " Radiation                 0\n",
      "Temperature               0\n",
      "Pressure                  0\n",
      "Humidity                  0\n",
      "WindDirection(Degrees)    0\n",
      "Speed                     0\n",
      "dtype: int64\n"
     ]
    }
   ],
   "source": [
    "print(\" the missing values are:\\n\",data_train.isnull().sum())"
   ]
  },
  {
   "cell_type": "code",
   "execution_count": 63,
   "metadata": {},
   "outputs": [
    {
     "data": {
      "image/png": "[encoded data removed]",
      "text/plain": [
       "<Figure size 864x576 with 2 Axes>"
      ]
     },
     "metadata": {
      "needs_background": "light"
     },
     "output_type": "display_data"
    }
   ],
   "source": [
    "data_train.describe()\n",
    "plt.figure(figsize=(12,8))\n",
    "sns.heatmap(round(data_train.describe()[1:]),annot=True,linewidth=2,fmt='f')\n",
    "plt.show()"
   ]
  },
  {
   "cell_type": "code",
   "execution_count": 98,
   "metadata": {},
   "outputs": [],
   "source": [
    "X_train=data_train.drop(\"Radiation\",axis=1)\n",
    "X_test  = data_test.drop(\"Radiation\", axis=1).copy()"
   ]
  },
  {
   "cell_type": "code",
   "execution_count": 99,
   "metadata": {},
   "outputs": [],
   "source": [
    "Y_train = data_train[\"Radiation\"]"
   ]
  },
  {
   "cell_type": "code",
   "execution_count": 66,
   "metadata": {},
   "outputs": [
    {
     "data": {
      "text/plain": [
       "81.46"
      ]
     },
     "execution_count": 66,
     "metadata": {},
     "output_type": "execute_result"
    }
   ],
   "source": [
    "import xgboost as xgb\n",
    "from xgboost.sklearn import XGBRegressor\n",
    "xgr =XGBRegressor()\n",
    "xgr.fit(X_train, Y_train) \n",
    "acc_xgb= round(xgr.score(X_train, Y_train) * 100, 2)\n",
    "acc_xgb"
   ]
  },
  {
   "cell_type": "code",
   "execution_count": 67,
   "metadata": {},
   "outputs": [
    {
     "name": "stdout",
     "output_type": "stream",
     "text": [
      "the accuracy of drandom tree regression is : 96.51\n"
     ]
    }
   ],
   "source": [
    "from sklearn.ensemble import RandomForestRegressor \n",
    "rfr = RandomForestRegressor(n_estimators=100) \n",
    "rfr.fit(X_train, Y_train) \n",
    "acc_rfr=round(rfr.score(X_train,Y_train)*100,2)\n",
    "print(\"the accuracy of drandom tree regression is :\",acc_rfr)"
   ]
  },
  {
   "cell_type": "code",
   "execution_count": 100,
   "metadata": {},
   "outputs": [
    {
     "name": "stdout",
     "output_type": "stream",
     "text": [
      "the accuracy of decision tree regression is : 100.0\n"
     ]
    }
   ],
   "source": [
    "from sklearn.tree import DecisionTreeRegressor \n",
    "dtr = DecisionTreeRegressor() \n",
    "dtr.fit(X_train, Y_train) \n",
    "acc_dtr=round(dtr.score(X_train,Y_train)*100,2)\n",
    "print(\"the accuracy of decision tree regression is :\",acc_dtr)"
   ]
  },
  {
   "cell_type": "code",
   "execution_count": 101,
   "metadata": {},
   "outputs": [
    {
     "name": "stdout",
     "output_type": "stream",
     "text": [
      "the solar radiation for test data is [847.88]\n"
     ]
    }
   ],
   "source": [
    "# so the accuracy of decision tree is 100 we will use decision tree regression for prediction on test data\n",
    "y_pred_dtr = dtr.predict(X_test)\n",
    "print(\"the solar radiation for test data is\", y_pred_dtr)"
   ]
  },
  {
   "cell_type": "code",
   "execution_count": null,
   "metadata": {},
   "outputs": [],
   "source": []
  },
  {
   "cell_type": "code",
   "execution_count": null,
   "metadata": {},
   "outputs": [],
   "source": []
  }
 ],
 "metadata": {
  "kernelspec": {
   "display_name": "Python 3",
   "language": "python",
   "name": "python3"
  },
  "language_info": {
   "codemirror_mode": {
    "name": "ipython",
    "version": 3
   },
   "file_extension": ".py",
   "mimetype": "text/x-python",
   "name": "python",
   "nbconvert_exporter": "python",
   "pygments_lexer": "ipython3",
   "version": "3.7.6"
  }
 },
 "nbformat": 4,
 "nbformat_minor": 4
}
